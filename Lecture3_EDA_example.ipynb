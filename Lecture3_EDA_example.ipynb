{
 "cells": [
  {
   "cell_type": "markdown",
   "id": "9f2bd1cd",
   "metadata": {},
   "source": [
    "# MSBD566 - Lecture 3\n",
    "## Exploratory Data Analysis Example: Diabetes\n",
    "\n",
    "Data source: https://archive.ics.uci.edu/dataset/296/diabetes+130-us+hospitals+for+years+1999-2008"
   ]
  },
  {
   "cell_type": "markdown",
   "id": "1faca64f",
   "metadata": {},
   "source": [
    "#### Import modules and dataset"
   ]
  },
  {
   "cell_type": "code",
   "execution_count": null,
   "id": "438b4150",
   "metadata": {},
   "outputs": [],
   "source": [
    "# modules\n",
    "import numpy as np \n",
    "import pandas as pd\n",
    "import matplotlib.pyplot as plt\n",
    "import seaborn as sns\n",
    "\n",
    "# set tables to display 100 columns and 100 rows\n",
    "pd.set_option('display.max_columns', 100)\n",
    "pd.set_option('display.max_rows', 100)"
   ]
  },
  {
   "cell_type": "code",
   "execution_count": null,
   "id": "06f405ed",
   "metadata": {},
   "outputs": [],
   "source": [
    "# dataset\n",
    "# edit as needed to load your dataset\n",
    "data = pd.read_csv('/Users/nazirah/Documents/GitHub/MSBD566-sampleRepo/diabetic_data.csv')\n",
    "\n",
    "# ID maps\n",
    "feature_map = pd.read_csv('/Users/nazirah/Documents/GitHub/MSBD566-sampleRepo/IDS_mapping.csv', header=None)\n",
    "\n",
    "admissionType = dict(zip(feature_map[0][1:9], feature_map[1][1:9]))\n",
    "dischargeDisposition = dict(zip(feature_map[0][11:41], feature_map[1][11:41]))\n",
    "admissionSource = dict(zip(feature_map[0][43:68], feature_map[1][43:68]))\n",
    "\n",
    "# change ID to numbers\n",
    "admissionType = {int(key): value for key, value in admissionType.items()}\n",
    "dischargeDisposition = {int(key): value for key, value in dischargeDisposition.items()}\n",
    "admissionSource = {int(key): value for key, value in admissionSource.items()}\n",
    "#display(admissionSource)"
   ]
  },
  {
   "cell_type": "markdown",
   "id": "08cf4e38",
   "metadata": {},
   "source": [
    "#### Explore the data"
   ]
  },
  {
   "cell_type": "code",
   "execution_count": null,
   "id": "08375044",
   "metadata": {},
   "outputs": [],
   "source": [
    "data.info()\n",
    "data.head()"
   ]
  },
  {
   "cell_type": "code",
   "execution_count": null,
   "id": "9fa8061a",
   "metadata": {},
   "outputs": [],
   "source": [
    "# DATA CLEANING\n",
    "# remove columns with question marks\n",
    "data = data.drop(columns=['weight', 'payer_code', 'medical_specialty'])\n",
    "\n",
    "# remove Q-marks and empty cells with nan\n",
    "clean_data = data.replace('?', np.nan)\n",
    "clean_data = clean_data.replace(' ', np.nan)\n",
    "\n",
    "# align map with the data\n",
    "clean_data['admission_type_id'] = clean_data['admission_type_id'].map(admissionType)\n",
    "clean_data['discharge_disposition_id'] = clean_data['discharge_disposition_id'].map(dischargeDisposition)\n",
    "clean_data['admission_source_id'] = clean_data['admission_source_id'].map(admissionSource)\n",
    "\n",
    "# check the data again\n",
    "clean_data.head()"
   ]
  },
  {
   "cell_type": "code",
   "execution_count": null,
   "id": "a907ae7d",
   "metadata": {},
   "outputs": [],
   "source": [
    "# checking the number of original patients\n",
    "original_shape = clean_data.shape\n",
    "print(f'Original data shape: {original_shape}')\n",
    "\n",
    "# remove rows with NaNs\n",
    "clean_data = clean_data.dropna(how='any', axis=0)\n",
    "print(f'New data shape: {clean_data.shape}')\n",
    "print(f'Number of rows removed: {original_shape[0] - clean_data.shape[0]}')\n",
    "\n",
    "# remove columns with NaNs - if needed\n",
    "clean_data = clean_data.dropna(how='any', axis=1)\n",
    "print(f'New data shape: {clean_data.shape}')\n",
    "print(f'Number of columns removed: {original_shape[1] - clean_data.shape[1]}')\n",
    "\n",
    "# Note: We don't need to remove NaNs if we don't care about the columns with NaNs."
   ]
  },
  {
   "cell_type": "markdown",
   "id": "ffaa8e0a",
   "metadata": {},
   "source": [
    "**Explore data - scatter plot**"
   ]
  },
  {
   "cell_type": "code",
   "execution_count": null,
   "id": "338bf0f7",
   "metadata": {},
   "outputs": [],
   "source": [
    "sns.scatterplot(data=clean_data, x='num_lab_procedures', y='num_medications')"
   ]
  },
  {
   "cell_type": "code",
   "execution_count": null,
   "id": "273bcf31",
   "metadata": {},
   "outputs": [],
   "source": [
    "# histogram of genders \n",
    "gender_types = clean_data['gender'].unique()\n",
    "print(f\"Genders: {gender_types}\")\n",
    "plt.hist(clean_data['gender'], bins=2)"
   ]
  },
  {
   "cell_type": "markdown",
   "id": "3fc27d90",
   "metadata": {},
   "source": [
    "**Explore data - counts and uniques**"
   ]
  },
  {
   "cell_type": "code",
   "execution_count": null,
   "id": "ff77261d",
   "metadata": {},
   "outputs": [],
   "source": [
    "# count how many unique values in the column\n",
    "clean_data['metformin'].nunique()"
   ]
  },
  {
   "cell_type": "code",
   "execution_count": null,
   "id": "1778feeb",
   "metadata": {},
   "outputs": [],
   "source": [
    "# count how many are the patients have metmorfine\n",
    "clean_data['metformin'].value_counts()"
   ]
  },
  {
   "cell_type": "code",
   "execution_count": null,
   "id": "376bc49d",
   "metadata": {},
   "outputs": [],
   "source": [
    "# find all the races used in the dataset\n",
    "clean_data['race'].unique()"
   ]
  },
  {
   "cell_type": "code",
   "execution_count": null,
   "id": "799b8051",
   "metadata": {},
   "outputs": [],
   "source": [
    "# find total participants in the dataset\n",
    "total_rows = clean_data.shape[0]\n",
    "print(f'Total rows: {total_rows}')"
   ]
  },
  {
   "cell_type": "code",
   "execution_count": null,
   "id": "cb16a337",
   "metadata": {},
   "outputs": [],
   "source": [
    "# Example 1: Age distribution\n",
    "# What is the distribution of age in the dataset?\n",
    "num_age = clean_data['age'].nunique()\n",
    "plt.hist(clean_data['age'], bins=num_age)\n",
    "plt.xlabel('Age')\n",
    "plt.xticks(rotation=45)\n",
    "plt.ylabel('Number of Patients')\n",
    "plt.title('Age Distribution of Patients')\n",
    "plt.show()\n",
    "\n",
    "# finding percentage of patients between 40-60 years old\n",
    "Nage_40_50 = (clean_data[(clean_data['age'] == '[40-50)') | (clean_data['age'] == '[50-60)')]).shape[0]\n",
    "percentage_40_50 = (Nage_40_50 / total_rows) * 100\n",
    "print(f'Percentage of patients between 40-60 years old: {percentage_40_50:.2f}%')\n",
    "\n",
    "# find percentage of patients between 70-80 years old\n",
    "Nage_70_80 = (clean_data[(clean_data['age'] == '[70-80)')]).shape[0]\n",
    "percentage_70_80 = (Nage_70_80 / total_rows) * 100\n",
    "print(f'Percentage of patients between 70-80 years old: {percentage_70_80:.2f}%')"
   ]
  },
  {
   "cell_type": "code",
   "execution_count": null,
   "id": "15bbbe05",
   "metadata": {},
   "outputs": [],
   "source": [
    "# Example 2: Race distribution\n",
    "# What is the distribution of races in the dataset?\n",
    "race_counts = clean_data['race'].value_counts()\n",
    "display(race_counts)\n",
    "\n",
    "# How many patients are of each race?\n",
    "for race in race_counts.index:\n",
    "    percent = race_counts[race]/total_rows * 100\n",
    "    print(f'Percentage of patients who are {race}: \\t{percent:.2f}%')"
   ]
  },
  {
   "cell_type": "markdown",
   "id": "2218ca82",
   "metadata": {},
   "source": [
    "**Group: Data Exploration**"
   ]
  },
  {
   "cell_type": "code",
   "execution_count": null,
   "id": "fbf476f2",
   "metadata": {},
   "outputs": [],
   "source": [
    "# Number of medications given to patients by race - use groupby()\n",
    "num_meds = clean_data.groupby('race')['num_medications'].sum().reset_index()\n",
    "num_meds"
   ]
  },
  {
   "cell_type": "code",
   "execution_count": null,
   "id": "5ac8bfc1",
   "metadata": {},
   "outputs": [],
   "source": [
    "# Number of No metamorfine patients - use groupby()\n",
    "no_metformin_counts = clean_data[clean_data['metformin'] == 'No'].groupby('race').size().reset_index(name='No Metformin Count')\n",
    "display(no_metformin_counts)\n",
    "\n",
    "# combine with number of medications - use merge()\n",
    "metmorfin_per_race = no_metformin_counts.merge(num_meds, on='race')\n",
    "display(metmorfin_per_race)\n"
   ]
  },
  {
   "cell_type": "markdown",
   "id": "821ac9ac",
   "metadata": {},
   "source": [
    "### Activity"
   ]
  },
  {
   "cell_type": "code",
   "execution_count": null,
   "id": "be3ae3e1",
   "metadata": {},
   "outputs": [],
   "source": [
    "# Question 1: What is the distribution of diabetes medications among different races? Give in percentages. "
   ]
  },
  {
   "cell_type": "code",
   "execution_count": null,
   "id": "7ea5f601",
   "metadata": {},
   "outputs": [],
   "source": [
    "# Question 2: How many female patients are not prescribed with insulin? What is the percentage over the total patients?"
   ]
  },
  {
   "cell_type": "code",
   "execution_count": null,
   "id": "4d754ec7",
   "metadata": {},
   "outputs": [],
   "source": [
    "# Question 3: Is there any correlation between number of lab procedures and number of medications? Look at the scatter plot above and find the correlation coefficient."
   ]
  }
 ],
 "metadata": {
  "kernelspec": {
   "display_name": "Python 3",
   "language": "python",
   "name": "python3"
  },
  "language_info": {
   "codemirror_mode": {
    "name": "ipython",
    "version": 3
   },
   "file_extension": ".py",
   "mimetype": "text/x-python",
   "name": "python",
   "nbconvert_exporter": "python",
   "pygments_lexer": "ipython3",
   "version": "3.9.6"
  }
 },
 "nbformat": 4,
 "nbformat_minor": 5
}
